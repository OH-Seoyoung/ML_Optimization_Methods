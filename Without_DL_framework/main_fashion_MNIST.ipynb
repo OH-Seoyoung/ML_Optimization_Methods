{
 "cells": [
  {
   "cell_type": "markdown",
   "metadata": {},
   "source": [
    "## 0. Import Packages"
   ]
  },
  {
   "cell_type": "code",
   "execution_count": 1,
   "metadata": {},
   "outputs": [],
   "source": [
    "import numpy as np\n",
    "import matplotlib.pyplot as plt\n",
    "import scipy.io\n",
    "import math\n",
    "import sklearn\n",
    "import sklearn.datasets\n",
    "from sklearn.preprocessing import OneHotEncoder\n",
    "\n",
    "import tensorflow as tf\n",
    "\n",
    "from my_model import forward_prop, backward_prop, forward_prop_multi, backward_prop_multi\n",
    "from opti_base import init_params, update_params_gd\n",
    "from opti_mini import random_mini_batches\n",
    "from opti_mome import init_mome, update_params_mome\n",
    "from opti_RMSprop import init_rmsp, update_params_rmsp\n",
    "from opti_adam import init_adam, update_params_adam"
   ]
  },
  {
   "cell_type": "markdown",
   "metadata": {},
   "source": [
    "## 1. Dataset"
   ]
  },
  {
   "cell_type": "code",
   "execution_count": 2,
   "metadata": {},
   "outputs": [],
   "source": [
    "f_mnist = tf.keras.datasets.fashion_mnist\n",
    "(train_images, train_labels), (test_images, test_labels) = f_mnist.load_data()\n",
    "\n",
    "# images : 28*28 (0~255), labels : 1 (0~9)"
   ]
  },
  {
   "cell_type": "code",
   "execution_count": 57,
   "metadata": {},
   "outputs": [
    {
     "data": {
      "image/png": "[encoded data removed]",
      "text/plain": [
       "<Figure size 576x648 with 16 Axes>"
      ]
     },
     "metadata": {},
     "output_type": "display_data"
    }
   ],
   "source": [
    "fig = plt.figure(figsize=(8,9))\n",
    "\n",
    "for x in range(4):\n",
    "    for y in range(4):\n",
    "        ax = fig.add_subplot(4, 4, 4*y+x+1)\n",
    "        plt.imshow(train_images[4*y+x], cmap = 'gray')\n",
    "        plt.xlabel(\"Label : \" + str(train_labels[4*y+x]))\n",
    "        plt.xticks(np.array([]))\n",
    "        plt.yticks(np.array([]))"
   ]
  },
  {
   "cell_type": "code",
   "execution_count": 4,
   "metadata": {
    "scrolled": true
   },
   "outputs": [
    {
     "name": "stdout",
     "output_type": "stream",
     "text": [
      "Shape of train X : (60000, 28, 28)\n",
      "Shape of train y : (60000,)\n",
      "Shape of test X : (10000, 28, 28)\n",
      "Shape of test y : (10000,)\n"
     ]
    }
   ],
   "source": [
    "print(\"Shape of train X :\", train_images.shape)\n",
    "print(\"Shape of train y :\", train_labels.shape)\n",
    "print(\"Shape of test X :\", test_images.shape)\n",
    "print(\"Shape of test y :\", test_labels.shape)"
   ]
  },
  {
   "cell_type": "code",
   "execution_count": 5,
   "metadata": {
    "scrolled": true
   },
   "outputs": [
    {
     "name": "stdout",
     "output_type": "stream",
     "text": [
      "Shape of x train: (784, 60000)\n",
      "Shape of y train: (10, 60000)\n",
      "Shape of x test: (784, 10000)\n",
      "Shape of y test: (10, 10000)\n"
     ]
    }
   ],
   "source": [
    "# Flatten the training and test images\n",
    "x_train_flatten = train_images.reshape(train_images.shape[0], -1).T\n",
    "x_test_flatten = test_images.reshape(test_images.shape[0], -1).T\n",
    "\n",
    "# Normalize image vectors\n",
    "x_train = x_train_flatten/255.\n",
    "x_test = x_test_flatten/255.\n",
    "\n",
    "# Convert training and test labels to one hot matrices\n",
    "enc = OneHotEncoder()\n",
    "y1 = train_labels.reshape(-1,1)\n",
    "enc.fit(y1)\n",
    "y_train = enc.transform(y1).toarray()\n",
    "y_train = y_train.T\n",
    "\n",
    "y2 = test_labels.reshape(-1,1)\n",
    "enc.fit(y2)\n",
    "y_test = enc.transform(y2).toarray()\n",
    "y_test = y_test.T\n",
    "\n",
    "# Explore dataset \n",
    "print (\"Shape of x train: \" + str(x_train.shape))\n",
    "print (\"Shape of y train: \" + str(y_train.shape))\n",
    "print (\"Shape of x test: \" + str(x_test.shape))\n",
    "print (\"Shape of y test: \" + str(y_test.shape))"
   ]
  },
  {
   "cell_type": "markdown",
   "metadata": {},
   "source": [
    "## 2. Training"
   ]
  },
  {
   "cell_type": "code",
   "execution_count": 15,
   "metadata": {},
   "outputs": [],
   "source": [
    "def model(X, Y, layers_dims, optimizer, learning_rate = 0.0007, mini_batch_size = 64, beta = 0.9,\n",
    "          beta1 = 0.9, beta2 = 0.999,  epsilon = 1e-8, num_epochs = 10, print_cost = True):\n",
    "    \n",
    "    # 3-layer neural network\n",
    "    \n",
    "    L = len(layers_dims)            \n",
    "    costs = []                      \n",
    "    t = 0     # counter                  \n",
    "    seed = 10                    \n",
    "    m = X.shape[1]          \n",
    "    \n",
    "    # Initialize parameters\n",
    "    parameters = init_params(layers_dims, Y.shape[0])\n",
    "\n",
    "    # Initialize the optimizer\n",
    "    if optimizer == \"gd\":\n",
    "        pass   # no initialization required\n",
    "    elif optimizer == \"momentum\":\n",
    "        v = init_mome(parameters)\n",
    "    elif optimizer == 'rmsprop':\n",
    "        s = init_rmsp(parameters)\n",
    "    elif optimizer == \"adam\":\n",
    "        v, s = init_adam(parameters)\n",
    "    \n",
    "    for i in range(num_epochs):\n",
    "        \n",
    "        seed = seed + 1 # reshuffle differently the dataset after each epoch\n",
    "        minibatches = random_mini_batches(X, Y, mini_batch_size, seed)\n",
    "        cost_total = 0\n",
    "        \n",
    "        for minibatch in minibatches:\n",
    "            (minibatch_X, minibatch_Y) = minibatch\n",
    "\n",
    "            # Forward prop\n",
    "            a3, caches = forward_prop_multi(minibatch_X, parameters)\n",
    "            logprobs = np.multiply(-np.log(a3),minibatch_Y)\n",
    "            cost_total += np.sum(logprobs)\n",
    "\n",
    "            # Backward prop\n",
    "            grads = backward_prop_multi(minibatch_X, minibatch_Y, caches)\n",
    "\n",
    "            # Update parameters\n",
    "            if optimizer == \"gd\":\n",
    "                parameters = update_params_gd(parameters, grads, learning_rate)\n",
    "            elif optimizer == \"momentum\":\n",
    "                parameters, v = update_params_mome(parameters, grads, v, beta, learning_rate)\n",
    "            elif optimizer == 'rmsprop':\n",
    "                parameters, s = update_params_rmsp(parameters, grads, s, beta, learning_rate, epsilon)\n",
    "            elif optimizer == \"adam\":\n",
    "                t = t + 1 # counter\n",
    "                parameters, v, s = update_params_adam(parameters, grads, v, s,\n",
    "                                                               t, learning_rate, beta1, beta2,  epsilon)\n",
    "        cost_avg = cost_total / m\n",
    "        \n",
    "        if print_cost and i % 1 == 0:\n",
    "            print (\"Cost after epoch %i: %f\" %(i, cost_avg))\n",
    "        if print_cost and i % 1 == 0:\n",
    "            costs.append(cost_avg)\n",
    "                \n",
    "    plt.plot(costs)\n",
    "    plt.ylabel('cost')\n",
    "    plt.xlabel('epochs (per 100)')\n",
    "    plt.title(\"Learning rate = \" + str(learning_rate))\n",
    "    plt.show()\n",
    "\n",
    "    return parameters"
   ]
  },
  {
   "cell_type": "code",
   "execution_count": 27,
   "metadata": {},
   "outputs": [],
   "source": [
    "def predict(X, y, parameters):\n",
    "\n",
    "    m = X.shape[1]\n",
    "    p = np.zeros((1,m), dtype = np.int)\n",
    "    \n",
    "    a3, caches = forward_prop(X, parameters)\n",
    "    \n",
    "    p = a3.argmax(axis=0)  # prediction\n",
    "    print(p, y)\n",
    "    print(\"Accuracy: \"  + str(np.mean((p == y))))\n",
    "    \n",
    "    return p, a3"
   ]
  },
  {
   "cell_type": "markdown",
   "metadata": {},
   "source": [
    "- mini-batch Gradient descent"
   ]
  },
  {
   "cell_type": "markdown",
   "metadata": {},
   "source": [
    "- **z1 = np.dot(W1, X) + b1**             \n",
    "1024,784 * 784, 60000  \n",
    "- **a1 = relu(z1)**                      \n",
    "1024, 60000  \n",
    "- **z2 = np.dot(W2, a1) + b2**            \n",
    "784, 1024 * 1024, 60000  \n",
    "- **a2 = relu(z2)**                       \n",
    "784, 60000  \n",
    "- **z3 = np.dot(W3, a2) + b3**            \n",
    "10, 784 * 784, 60000  \n",
    "- **a3 = softmax(z3)**                    \n",
    "10 * 60000  "
   ]
  },
  {
   "cell_type": "code",
   "execution_count": 34,
   "metadata": {
    "scrolled": true
   },
   "outputs": [
    {
     "name": "stdout",
     "output_type": "stream",
     "text": [
      "Cost after epoch 0: 2.302434\n",
      "Cost after epoch 1: 2.302070\n",
      "Cost after epoch 2: 2.301632\n",
      "Cost after epoch 3: 2.301040\n",
      "Cost after epoch 4: 2.300181\n",
      "Cost after epoch 5: 2.298854\n",
      "Cost after epoch 6: 2.296649\n",
      "Cost after epoch 7: 2.292615\n",
      "Cost after epoch 8: 2.284272\n",
      "Cost after epoch 9: 2.263839\n"
     ]
    },
    {
     "data": {
      "image/png": "[encoded data removed]",
      "text/plain": [
       "<Figure size 432x288 with 1 Axes>"
      ]
     },
     "metadata": {
      "needs_background": "light"
     },
     "output_type": "display_data"
    },
    {
     "name": "stdout",
     "output_type": "stream",
     "text": [
      "[9 4 1 ... 4 1 9] [9 2 1 ... 8 1 5]\n",
      "Accuracy: 0.3741\n",
      "Wall time: 35.1 s\n"
     ]
    }
   ],
   "source": [
    "%%time\n",
    "layers_dims = [x_train.shape[0], 256, 64, 10]\n",
    "parameters = model(x_train, y_train, layers_dims, optimizer = \"gd\", learning_rate = 0.01, mini_batch_size = 512)\n",
    "\n",
    "predictions_gd, prob_gd = predict(x_test, test_labels, parameters)"
   ]
  },
  {
   "cell_type": "markdown",
   "metadata": {},
   "source": [
    "- Momentum"
   ]
  },
  {
   "cell_type": "code",
   "execution_count": 39,
   "metadata": {
    "scrolled": true
   },
   "outputs": [
    {
     "name": "stdout",
     "output_type": "stream",
     "text": [
      "Cost after epoch 0: 2.302457\n",
      "Cost after epoch 1: 2.302104\n",
      "Cost after epoch 2: 2.301685\n",
      "Cost after epoch 3: 2.301129\n",
      "Cost after epoch 4: 2.300335\n",
      "Cost after epoch 5: 2.299133\n",
      "Cost after epoch 6: 2.297191\n",
      "Cost after epoch 7: 2.293772\n",
      "Cost after epoch 8: 2.287095\n",
      "Cost after epoch 9: 2.272065\n"
     ]
    },
    {
     "data": {
      "image/png": "[encoded data removed]",
      "text/plain": [
       "<Figure size 432x288 with 1 Axes>"
      ]
     },
     "metadata": {
      "needs_background": "light"
     },
     "output_type": "display_data"
    },
    {
     "name": "stdout",
     "output_type": "stream",
     "text": [
      "[9 4 1 ... 4 1 9] [9 2 1 ... 8 1 5]\n",
      "Accuracy: 0.3943\n",
      "Wall time: 36.7 s\n"
     ]
    }
   ],
   "source": [
    "%%time\n",
    "layers_dims = [x_train.shape[0], 256, 64, 10]\n",
    "parameters = model(x_train, y_train, layers_dims, optimizer = \"momentum\", learning_rate = 0.01, mini_batch_size = 512)\n",
    "\n",
    "predictions_gd, prob_gd = predict(x_test, test_labels, parameters)"
   ]
  },
  {
   "cell_type": "markdown",
   "metadata": {},
   "source": [
    "- RMSprop"
   ]
  },
  {
   "cell_type": "code",
   "execution_count": 41,
   "metadata": {},
   "outputs": [],
   "source": [
    "%%time\n",
    "layers_dims = [x_train.shape[0], 256, 64, 10]\n",
    "parameters = model(x_train, y_train, layers_dims, beta = 0.999, optimizer = \"rmsprop\", mini_batch_size = 512)\n",
    "\n",
    "# Predict\n",
    "predictions_gd, prob_gd = predict(x_test, test_labels, parameters)"
   ]
  },
  {
   "cell_type": "markdown",
   "metadata": {},
   "source": [
    "- ADAM"
   ]
  },
  {
   "cell_type": "code",
   "execution_count": 42,
   "metadata": {
    "scrolled": true
   },
   "outputs": [
    {
     "name": "stdout",
     "output_type": "stream",
     "text": [
      "Cost after epoch 0: 1.151583\n",
      "Cost after epoch 1: 0.602646\n",
      "Cost after epoch 2: 0.513042\n",
      "Cost after epoch 3: 0.466592\n",
      "Cost after epoch 4: 0.434885\n",
      "Cost after epoch 5: 0.415438\n",
      "Cost after epoch 6: 0.397673\n",
      "Cost after epoch 7: 0.387975\n",
      "Cost after epoch 8: 0.371747\n",
      "Cost after epoch 9: 0.362510\n"
     ]
    },
    {
     "data": {
      "image/png": "[encoded data removed]",
      "text/plain": [
       "<Figure size 432x288 with 1 Axes>"
      ]
     },
     "metadata": {
      "needs_background": "light"
     },
     "output_type": "display_data"
    },
    {
     "name": "stdout",
     "output_type": "stream",
     "text": [
      "[9 2 1 ... 8 1 5] [9 2 1 ... 8 1 5]\n",
      "Accuracy: 0.8525\n",
      "Wall time: 47.5 s\n"
     ]
    }
   ],
   "source": [
    "%%time\n",
    "layers_dims = [x_train.shape[0], 256, 64, 10]\n",
    "parameters = model(x_train, y_train, layers_dims, optimizer = \"adam\", mini_batch_size = 512)\n",
    "\n",
    "# Predict\n",
    "predictions_gd, prob_gd = predict(x_test, test_labels, parameters)"
   ]
  },
  {
   "cell_type": "markdown",
   "metadata": {},
   "source": [
    "### References\n",
    "[1] Deep Learning Specialization on Coursera, https://www.coursera.org/specializations/deep-learning  \n",
    "[2] Kingma, Diederik P., and Jimmy Ba. \"Adam: A method for stochastic optimization.\" arXiv preprint arXiv:1412.6980 (2014)."
   ]
  }
 ],
 "metadata": {
  "coursera": {
   "course_slug": "deep-neural-network",
   "graded_item_id": "Ckiv2",
   "launcher_item_id": "eNLYh"
  },
  "kernelspec": {
   "display_name": "Python 3",
   "language": "python",
   "name": "python3"
  },
  "language_info": {
   "codemirror_mode": {
    "name": "ipython",
    "version": 3
   },
   "file_extension": ".py",
   "mimetype": "text/x-python",
   "name": "python",
   "nbconvert_exporter": "python",
   "pygments_lexer": "ipython3",
   "version": "3.8.8"
  }
 },
 "nbformat": 4,
 "nbformat_minor": 2
}
