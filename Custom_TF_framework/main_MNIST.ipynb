{
 "cells": [
  {
   "cell_type": "markdown",
   "id": "10ab2efc",
   "metadata": {},
   "source": [
    "## 0. Import Packages"
   ]
  },
  {
   "cell_type": "code",
   "execution_count": 16,
   "id": "ce470b8a",
   "metadata": {},
   "outputs": [],
   "source": [
    "import numpy as np\n",
    "import matplotlib.pylab as plt\n",
    "import tensorflow as tf\n",
    "import keras\n",
    "from keras.models import Sequential\n",
    "from keras.layers import Dense, Dropout, Flatten\n",
    "from keras.layers.convolutional import Conv2D, MaxPooling2D\n",
    "from keras.models import load_model\n",
    "from tensorflow.keras.optimizers import Adam\n",
    "\n",
    "# import tensorflow.compat.v1 as tf\n",
    "# tf.disable_v2_behavior() "
   ]
  },
  {
   "cell_type": "markdown",
   "id": "c1956057",
   "metadata": {},
   "source": [
    "## 1. Make dataset"
   ]
  },
  {
   "cell_type": "code",
   "execution_count": 19,
   "id": "6aa43d3f",
   "metadata": {},
   "outputs": [],
   "source": [
    "# Download the mnist dataset using keras\n",
    "data_train, data_test = tf.keras.datasets.mnist.load_data()\n",
    "\n",
    "# Parse images and labels\n",
    "(images_train, labels_train) = data_train\n",
    "(images_test, labels_test) = data_test"
   ]
  },
  {
   "cell_type": "code",
   "execution_count": 20,
   "id": "8fd6d1e7",
   "metadata": {},
   "outputs": [],
   "source": [
    "x_train = images_train.reshape(60000, 28, 28, 1)\n",
    "x_test = images_test.reshape(10000, 28, 28, 1)\n",
    "y_train = labels_train\n",
    "y_test = labels_test"
   ]
  },
  {
   "cell_type": "markdown",
   "id": "ffc60ad5",
   "metadata": {},
   "source": [
    "## 2. Modeling"
   ]
  },
  {
   "cell_type": "code",
   "execution_count": 21,
   "id": "5dbcb424",
   "metadata": {},
   "outputs": [],
   "source": [
    "batch_size = 512\n",
    "num_classes = 10\n",
    "epochs = 1"
   ]
  },
  {
   "cell_type": "code",
   "execution_count": 22,
   "id": "1b2dcdc9",
   "metadata": {
    "scrolled": true
   },
   "outputs": [
    {
     "name": "stdout",
     "output_type": "stream",
     "text": [
      "Model: \"sequential_1\"\n",
      "_________________________________________________________________\n",
      "Layer (type)                 Output Shape              Param #   \n",
      "=================================================================\n",
      "conv2d_2 (Conv2D)            (None, 28, 28, 32)        832       \n",
      "_________________________________________________________________\n",
      "max_pooling2d_2 (MaxPooling2 (None, 14, 14, 32)        0         \n",
      "_________________________________________________________________\n",
      "conv2d_3 (Conv2D)            (None, 14, 14, 64)        51264     \n",
      "_________________________________________________________________\n",
      "max_pooling2d_3 (MaxPooling2 (None, 7, 7, 64)          0         \n",
      "_________________________________________________________________\n",
      "dropout_2 (Dropout)          (None, 7, 7, 64)          0         \n",
      "_________________________________________________________________\n",
      "flatten_1 (Flatten)          (None, 3136)              0         \n",
      "_________________________________________________________________\n",
      "dense_2 (Dense)              (None, 1024)              3212288   \n",
      "_________________________________________________________________\n",
      "dropout_3 (Dropout)          (None, 1024)              0         \n",
      "_________________________________________________________________\n",
      "dense_3 (Dense)              (None, 10)                10250     \n",
      "=================================================================\n",
      "Total params: 3,274,634\n",
      "Trainable params: 3,274,634\n",
      "Non-trainable params: 0\n",
      "_________________________________________________________________\n"
     ]
    }
   ],
   "source": [
    "model = Sequential()\n",
    "model.add(Conv2D(32, kernel_size=(5, 5), strides=(1, 1), padding='same',\n",
    "                 activation='relu',\n",
    "                 input_shape=(28,28,1)))\n",
    "model.add(MaxPooling2D(pool_size=(2, 2)))\n",
    "model.add(Conv2D(64, (5, 5), activation='relu', padding='same'))\n",
    "model.add(MaxPooling2D(pool_size=(2, 2)))\n",
    "model.add(Dropout(0.25))\n",
    "model.add(Flatten())\n",
    "model.add(Dense(1024, activation='relu'))\n",
    "model.add(Dropout(0.5))\n",
    "model.add(Dense(num_classes, activation='softmax'))\n",
    "model.summary()"
   ]
  },
  {
   "cell_type": "markdown",
   "id": "2789a078",
   "metadata": {},
   "source": [
    "- keras framework"
   ]
  },
  {
   "cell_type": "code",
   "execution_count": 23,
   "id": "9d4960c4",
   "metadata": {},
   "outputs": [],
   "source": [
    "# model.compile(loss = keras.losses.categorical_crossentropy, optimizer = Adam(learning_rate=0.0001), metrics=[\"accuracy\"])"
   ]
  },
  {
   "cell_type": "code",
   "execution_count": 24,
   "id": "172899e9",
   "metadata": {
    "scrolled": true
   },
   "outputs": [
    {
     "name": "stdout",
     "output_type": "stream",
     "text": [
      "118/118 [==============================] - 100s 845ms/step - loss: 3.3267 - accuracy: 0.7644 - val_loss: 0.1672 - val_accuracy: 0.9565\n"
     ]
    }
   ],
   "source": [
    "model.compile(loss = keras.losses.sparse_categorical_crossentropy, optimizer = Adam(learning_rate = 0.0001), metrics = ['accuracy'])\n",
    "hist = model.fit(x_train, y_train,\n",
    "                 epochs = epochs,\n",
    "                 batch_size = batch_size,\n",
    "                 verbose = 1, \n",
    "                 validation_data=(x_test, y_test))"
   ]
  },
  {
   "cell_type": "markdown",
   "id": "b39ded35",
   "metadata": {},
   "source": [
    "- Without framework"
   ]
  },
  {
   "cell_type": "code",
   "execution_count": null,
   "id": "b044078c",
   "metadata": {},
   "outputs": [],
   "source": [
    "model.compile(loss='sparse_categorical_crossentropy', optimizer='adam', metrics=['accuracy'])\n",
    "hist = model.fit(x_train, y_train,\n",
    "                 epochs = epochs,\n",
    "                 batch_size = batch_size,\n",
    "                 verbose = 1, \n",
    "                 validation_data=(x_test, y_test))"
   ]
  },
  {
   "cell_type": "code",
   "execution_count": null,
   "id": "5e86000a",
   "metadata": {},
   "outputs": [],
   "source": [
    "score1 = model.evaluate(x_train, y_train, verbose = 0)\n",
    "score2 = model.evaluate(x_test, y_test, verbose = 0)\n",
    "print('Train accuracy:', score1[1])\n",
    "print('Test accuracy:', score2[1])"
   ]
  }
 ],
 "metadata": {
  "kernelspec": {
   "display_name": "Python 3",
   "language": "python",
   "name": "python3"
  },
  "language_info": {
   "codemirror_mode": {
    "name": "ipython",
    "version": 3
   },
   "file_extension": ".py",
   "mimetype": "text/x-python",
   "name": "python",
   "nbconvert_exporter": "python",
   "pygments_lexer": "ipython3",
   "version": "3.8.8"
  }
 },
 "nbformat": 4,
 "nbformat_minor": 5
}
